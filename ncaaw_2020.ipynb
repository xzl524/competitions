{
 "cells": [
  {
   "cell_type": "markdown",
   "metadata": {},
   "source": [
    "## 比赛结果预测竞赛：Google Cloud & NCAA® ML Competition 2020-NCAAW\n",
    "\n",
    "#### 竞赛说明\n",
    "* 网站：https://www.kaggle.com/c/google-cloud-ncaa-march-madness-2020-division-1-womens-tournament\n",
    "* 2020年竞赛因新冠肺炎疫情取消\n",
    "\n",
    "#### 建模方法\n",
    "* 特征变量\n",
    "    * 各支参赛球队的种子排位\n",
    "    * 各支参赛球队常规赛的平均比赛数据\n",
    "* 预测模型\n",
    "    * XGBoost回归器+逻辑回归分类器\n",
    "\n",
    "#### 模型评估\n",
    "* 总体评估\n",
    "    * 对数损失：0.4781\n",
    "    * 准确率：77.0%\n",
    "* 按年评估\n",
    "    * 2016：对数损失：0.5754，准确率：71.4%\n",
    "    * 2017：对数损失：0.4969，准确率：79.4%\n",
    "    * 2018：对数损失：0.4602，准确率：76.2%\n",
    "    * 2019：对数损失：0.3800，准确率：81.0%"
   ]
  },
  {
   "cell_type": "code",
   "execution_count": 1,
   "metadata": {
    "_cell_guid": "b1076dfc-b9ad-4769-8c92-a6c4dae69d19",
    "_uuid": "8f2839f25d086af736a60e9eeb907d3b93b6e0e5"
   },
   "outputs": [],
   "source": [
    "%matplotlib inline\n",
    "import os\n",
    "import matplotlib.pyplot as plt\n",
    "import pandas as pd\n",
    "import numpy as np\n",
    "import seaborn as sns\n",
    "\n",
    "import xgboost as xgb\n",
    "from sklearn.linear_model import LogisticRegression\n",
    "from sklearn.metrics import accuracy_score, log_loss\n",
    "from sklearn.model_selection import KFold\n",
    "\n",
    "sns.set_style('white')\n",
    "sns.set_context('poster')\n",
    "sns.set_style({'font.sans-serif':['simhei','Arial']}) #图中显示中文"
   ]
  },
  {
   "cell_type": "markdown",
   "metadata": {
    "_uuid": "afe4811283fd6778ba3b67f2a469ab12b1b74c43"
   },
   "source": [
    "#### 1. 数据预处理"
   ]
  },
  {
   "cell_type": "markdown",
   "metadata": {},
   "source": [
    "导入数据"
   ]
  },
  {
   "cell_type": "code",
   "execution_count": 3,
   "metadata": {},
   "outputs": [],
   "source": [
    "# 从网站下载并解压数据到以下目录\n",
    "data_folder = os.path.join(os.path.pardir, 'projects', 'ncaa_ml_competition', 'NCAAW_2020', 'google-cloud-ncaa-march-madness-2020-division-1-womens-tournament')\n",
    "year = 2020\n",
    "gender = 'W'\n",
    "stage = 1\n",
    "\n",
    "sub_folder = '{}DataFiles_Stage{}'.format(gender, stage)\n",
    "tourney_results = pd.read_csv(os.path.join(data_folder, sub_folder, '{}NCAATourneyDetailedResults.csv'.format(gender)))\n",
    "regular_results = pd.read_csv(os.path.join(data_folder, sub_folder, '{}RegularSeasonDetailedResults.csv'.format(gender)))\n",
    "seeds = pd.read_csv(os.path.join(data_folder, sub_folder, '{}NCAATourneySeeds.csv'.format(gender)))"
   ]
  },
  {
   "cell_type": "markdown",
   "metadata": {},
   "source": [
    "重新整理数据"
   ]
  },
  {
   "cell_type": "code",
   "execution_count": 4,
   "metadata": {
    "_uuid": "512dcd34de61fd5e61cd08eccc1c9560362f4178"
   },
   "outputs": [],
   "source": [
    "def prepare_data(df):\n",
    "\n",
    "    dfswap = df[['Season', 'DayNum', 'LTeamID', 'LScore', 'WTeamID', 'WScore', 'WLoc', 'NumOT',\n",
    "                 'LFGM', 'LFGA', 'LFGM3', 'LFGA3', 'LFTM', 'LFTA', 'LOR', 'LDR', 'LAst', 'LTO', 'LStl', 'LBlk', 'LPF',\n",
    "                 'WFGM', 'WFGA', 'WFGM3', 'WFGA3', 'WFTM', 'WFTA', 'WOR', 'WDR', 'WAst', 'WTO', 'WStl', 'WBlk', 'WPF']]\n",
    "\n",
    "    dfswap.loc[df['WLoc']=='H', 'WLoc'] = 'A'\n",
    "    dfswap.loc[df['WLoc']=='A', 'WLoc'] = 'H'\n",
    "    df.columns.values[6] = 'location'\n",
    "    dfswap.columns.values[6] = 'location'    \n",
    "\n",
    "    df.columns = [x.replace('W', 'T1_').replace('L', 'T2_') for x in list(df.columns)]\n",
    "    dfswap.columns = [x.replace('L', 'T1_').replace('W', 'T2_') for x in list(dfswap.columns)]\n",
    "\n",
    "    output = pd.concat([df, dfswap]).reset_index(drop=True)\n",
    "    output.loc[output.location=='N', 'location'] = 0\n",
    "    output.loc[output.location=='H', 'location'] = 1\n",
    "    output.loc[output.location=='A', 'location'] = -1\n",
    "    output.location = output.location.astype(int)\n",
    "\n",
    "    output['PointDiff'] = output['T1_Score'] - output['T2_Score']\n",
    "\n",
    "    return output"
   ]
  },
  {
   "cell_type": "code",
   "execution_count": 5,
   "metadata": {
    "_uuid": "6a7bf779e16fe27aa89633ff78f89d452794aa84"
   },
   "outputs": [],
   "source": [
    "regular_data = prepare_data(regular_results)\n",
    "tourney_data = prepare_data(tourney_results)\n",
    "tourney_data = tourney_data[['Season', 'DayNum', 'T1_TeamID', 'T1_Score', 'T2_TeamID' ,'T2_Score']]"
   ]
  },
  {
   "cell_type": "markdown",
   "metadata": {},
   "source": [
    "添加常规赛平均比赛数据"
   ]
  },
  {
   "cell_type": "code",
   "execution_count": 6,
   "metadata": {},
   "outputs": [],
   "source": [
    "boxscore_cols = ['T1_Score', 'T2_Score',\n",
    "                 'T1_FGM', 'T1_FGA', 'T1_FGM3', 'T1_FGA3', 'T1_FTM', 'T1_FTA', 'T1_OR', 'T1_DR', 'T1_Ast',\n",
    "                 'T1_TO', 'T1_Stl', 'T1_Blk', 'T1_PF',\n",
    "                 'T2_FGM', 'T2_FGA', 'T2_FGM3', 'T2_FGA3', 'T2_FTM', 'T2_FTA', 'T2_OR', 'T2_DR', 'T2_Ast',\n",
    "                 'T2_TO', 'T2_Stl', 'T2_Blk', 'T2_PF', \n",
    "                 'PointDiff']\n",
    "\n",
    "boxscore_cols = ['T1_FGM', 'T1_FGA', 'T1_FGM3', 'T1_FGA3', 'T1_OR', 'T1_Ast', 'T1_TO', 'T1_Stl', 'T1_PF', \n",
    "                 'T2_FGM', 'T2_FGA', 'T2_FGM3', 'T2_FGA3', 'T2_OR', 'T2_Ast', 'T2_TO', 'T2_Stl', 'T2_Blk',\n",
    "                 'PointDiff']\n",
    "\n",
    "funcs = [np.mean]\n",
    "\n",
    "season_statistics = regular_data.groupby([\"Season\", 'T1_TeamID'])[boxscore_cols].agg(funcs).reset_index()\n",
    "season_statistics.columns = [''.join(col).strip() for col in season_statistics.columns.values]\n",
    "season_statistics_T1 = season_statistics.copy()\n",
    "season_statistics_T2 = season_statistics.copy()\n",
    "\n",
    "season_statistics_T1.columns = [\"T1_\" + x.replace(\"T1_\", \"\").replace(\"T2_\", \"opponent_\") for x in list(season_statistics_T1.columns)]\n",
    "season_statistics_T2.columns = [\"T2_\" + x.replace(\"T1_\", \"\").replace(\"T2_\", \"opponent_\") for x in list(season_statistics_T2.columns)]\n",
    "season_statistics_T1.columns.values[0] = \"Season\"\n",
    "season_statistics_T2.columns.values[0] = \"Season\"\n",
    "\n",
    "tourney_data = pd.merge(tourney_data, season_statistics_T1, on = ['Season', 'T1_TeamID'], how='left')\n",
    "tourney_data = pd.merge(tourney_data, season_statistics_T2, on = ['Season', 'T2_TeamID'], how='left')"
   ]
  },
  {
   "cell_type": "markdown",
   "metadata": {},
   "source": [
    "添加种子排名"
   ]
  },
  {
   "cell_type": "code",
   "execution_count": 7,
   "metadata": {},
   "outputs": [],
   "source": [
    "seeds['Seed'] = seeds['Seed'].apply(lambda x: int(x[1:3]))\n",
    "seeds_T1 = seeds[['Season','TeamID','Seed']].copy()\n",
    "seeds_T2 = seeds[['Season','TeamID','Seed']].copy()\n",
    "seeds_T1.columns = ['Season','T1_TeamID','T1_Seed']\n",
    "seeds_T2.columns = ['Season','T2_TeamID','T2_Seed']\n",
    "tourney_data = pd.merge(tourney_data, seeds_T1, on = ['Season', 'T1_TeamID'], how = 'left')\n",
    "tourney_data = pd.merge(tourney_data, seeds_T2, on = ['Season', 'T2_TeamID'], how = 'left')"
   ]
  },
  {
   "cell_type": "markdown",
   "metadata": {},
   "source": [
    "准备建模数据"
   ]
  },
  {
   "cell_type": "code",
   "execution_count": 8,
   "metadata": {
    "_uuid": "0119bb397cea0028aeb4247034ef6096e738becf"
   },
   "outputs": [],
   "source": [
    "X = tourney_data[tourney_data.columns[6:]].values\n",
    "y = (tourney_data['T1_Score'] - tourney_data['T2_Score']).values\n",
    "r = np.where(y>0, 0, 1)\n",
    "\n",
    "# train test split\n",
    "mask = tourney_data.Season <= 2015\n",
    "Xtrain = X[mask]\n",
    "Xtest = X[~mask]\n",
    "ytrain = y[mask]\n",
    "ytest = y[~mask]\n",
    "rtrain = r[mask]\n",
    "rtest = r[~mask]"
   ]
  },
  {
   "cell_type": "markdown",
   "metadata": {},
   "source": [
    "#### 2. XGBoost回归器+逻辑回归分类器"
   ]
  },
  {
   "cell_type": "markdown",
   "metadata": {},
   "source": [
    "使用交叉验证确定超参数"
   ]
  },
  {
   "cell_type": "code",
   "execution_count": 9,
   "metadata": {},
   "outputs": [],
   "source": [
    "param_reg = {} \n",
    "param_reg['objective'] = 'reg:linear'\n",
    "param_reg['eval_metric'] =  'mae'\n",
    "param_reg['booster'] = 'gbtree'\n",
    "param_reg['silent'] = 1\n",
    "\n",
    "param_reg['eta'] = 0.05\n",
    "param_reg['subsample'] = 0.4\n",
    "param_reg['colsample_bytree'] = 1.0\n",
    "param_reg['max_depth'] = 1\n",
    "param_reg['num_parallel_tree'] = 3\n",
    "param_reg['min_child_weight'] = 40\n",
    "\n",
    "phase = 'reg'\n",
    "parameter_dic = {'eta':np.arange(0.01, 0.2, 0.01)}\n",
    "param_tune = list(parameter_dic.keys())[0]\n",
    "param_len = len(parameter_dic[param_tune])\n",
    "\n",
    "cross_validation_fold = 10\n",
    "\n",
    "xgb_cv = []\n",
    "kf = KFold(n_splits=cross_validation_fold, shuffle=True, random_state=42)\n",
    "\n",
    "train_mean = []\n",
    "val_mean = []\n",
    "\n",
    "reg_progress = {}\n",
    "clf_progress = {}\n",
    "\n",
    "reg_num_boost_round_mean = []\n",
    "clf_num_boost_round_mean = []\n",
    "\n",
    "for i in range(param_len):\n",
    "    if phase == 'reg':\n",
    "        param_reg[param_tune] = parameter_dic[param_tune][i]\n",
    "    \n",
    "    train_scores = []\n",
    "    val_scores = []\n",
    "    \n",
    "    reg_num_boost_round = []\n",
    "    clf_num_boost_round = []\n",
    "    \n",
    "    for train, val in kf.split(Xtrain, ytrain):\n",
    "        dtrain = xgb.DMatrix(Xtrain[train], label = ytrain[train])\n",
    "        dval = xgb.DMatrix(Xtrain[val], label = ytrain[val])\n",
    "        reg = xgb.train(params=param_reg, dtrain=dtrain,\n",
    "                        num_boost_round=3000,\n",
    "                        early_stopping_rounds=25, evals=[(dval,'validation')],\n",
    "                        evals_result=reg_progress,\n",
    "                        verbose_eval=False)\n",
    "        reg_num_boost_round.append(len(reg_progress['validation']['mae']))\n",
    "        Ztrain = reg.predict(dtrain).reshape(-1, 1)\n",
    "        Zval = reg.predict(dval).reshape(-1, 1)\n",
    "        ltrain = xgb.DMatrix(Ztrain, label=rtrain[train])\n",
    "        lval = xgb.DMatrix(Zval, label = rtrain[val])\n",
    "        \n",
    "        clf = LogisticRegression(solver='liblinear', C=10000) # minimizing regularization by setting C to a very large number\n",
    "        clf.fit(Ztrain, rtrain[train])\n",
    "        train_scores.append(log_loss(rtrain[train], clf.predict_proba(Ztrain)))\n",
    "        val_scores.append(log_loss(rtrain[val], clf.predict_proba(Zval)))\n",
    "\n",
    "    train_mean.append(np.mean(np.array(train_scores)))\n",
    "    val_mean.append(np.mean(np.array(val_scores)))\n",
    "    \n",
    "    reg_num_boost_round_mean.append(np.mean(np.array(reg_num_boost_round)))"
   ]
  },
  {
   "cell_type": "code",
   "execution_count": 10,
   "metadata": {},
   "outputs": [
    {
     "name": "stdout",
     "output_type": "stream",
     "text": [
      "最优的eta为：0.05\n",
      "对数损失(cv)：0.4158\n"
     ]
    },
    {
     "data": {
      "image/png": "[encoded data removed]",
      "text/plain": [
       "<Figure size 864x576 with 1 Axes>"
      ]
     },
     "metadata": {},
     "output_type": "display_data"
    }
   ],
   "source": [
    "plt.figure(figsize=(12, 8))\n",
    "plt.plot(parameter_dic[param_tune], np.array(train_mean),\n",
    "         color='blue', marker='o', markersize=5, label='训练数据')\n",
    "plt.plot(parameter_dic[param_tune], np.array(val_mean),\n",
    "         color='green', linestyle='--', marker='s', markersize=5, label='交叉验证数据')\n",
    "plt.xlabel('超参数：{}'.format(param_tune))\n",
    "plt.ylabel('对数损失')\n",
    "plt.legend()\n",
    "plt.title('XGBoost回归器+逻辑回归分类器')\n",
    "print('最优的{}为：{}'.format(param_tune, parameter_dic[param_tune][np.argmin(val_mean)]))\n",
    "print('对数损失(cv)：{:.4f}'.format(np.min(val_mean)))"
   ]
  },
  {
   "cell_type": "markdown",
   "metadata": {},
   "source": [
    "模型评估"
   ]
  },
  {
   "cell_type": "code",
   "execution_count": 11,
   "metadata": {},
   "outputs": [
    {
     "name": "stdout",
     "output_type": "stream",
     "text": [
      "对数损失：0.4781\n",
      "准确率：77.0%\n"
     ]
    }
   ],
   "source": [
    "param_reg = {} \n",
    "param_reg['objective'] = 'reg:linear'\n",
    "param_reg['eval_metric'] =  'mae'\n",
    "param_reg['booster'] = 'gbtree'\n",
    "param_reg['silent'] = 1\n",
    "\n",
    "param_reg['eta'] = 0.05\n",
    "param_reg['subsample'] = 0.4\n",
    "param_reg['colsample_bytree'] = 1.0\n",
    "param_reg['max_depth'] = 1\n",
    "param_reg['num_parallel_tree'] = 3\n",
    "param_reg['min_child_weight'] = 40\n",
    "\n",
    "dtrain = xgb.DMatrix(Xtrain, label = ytrain)\n",
    "reg = xgb.train(params=param_reg, dtrain=dtrain,\n",
    "                num_boost_round=int(reg_num_boost_round_mean[np.argmin(val_mean)]),\n",
    "                verbose_eval=False)\n",
    "        \n",
    "Ztrain = reg.predict(dtrain).reshape(-1, 1)\n",
    "clf = LogisticRegression(solver='liblinear', C=1000)\n",
    "clf.fit(Ztrain, rtrain)\n",
    "\n",
    "dtest = xgb.DMatrix(Xtest, label = ytest)\n",
    "Ztest = reg.predict(dtest).reshape(-1,1)\n",
    "ytest_prob = clf.predict_proba(Ztest)\n",
    "\n",
    "print('对数损失：{:.4f}'.format(log_loss(rtest, ytest_prob)))\n",
    "print('准确率：{:.1f}%'.format(accuracy_score(rtest, np.argmax(ytest_prob, axis=1))*100))"
   ]
  },
  {
   "cell_type": "markdown",
   "metadata": {},
   "source": [
    "按年评估"
   ]
  },
  {
   "cell_type": "code",
   "execution_count": 12,
   "metadata": {},
   "outputs": [
    {
     "name": "stdout",
     "output_type": "stream",
     "text": [
      "2016：对数损失：0.5754，准确率：71.4%\n",
      "2017：对数损失：0.4969，准确率：79.4%\n",
      "2018：对数损失：0.4602，准确率：76.2%\n",
      "2019：对数损失：0.3800，准确率：81.0%\n"
     ]
    }
   ],
   "source": [
    "for season in range(2016, 2020):\n",
    "    mask = tourney_data.Season == season\n",
    "    rmask = np.where(y[mask]>0, 0, 1)\n",
    "    dmask = xgb.DMatrix(X[mask], label = y[mask])\n",
    "    Zmask = reg.predict(dmask).reshape(-1,1)\n",
    "    ymask_prob = clf.predict_proba(Zmask)\n",
    "    print('{}：对数损失：{:.4f}，准确率：{:.1f}%'.format(season, log_loss(rmask, ymask_prob), accuracy_score(rmask, np.argmax(ymask_prob, axis=1))*100))"
   ]
  },
  {
   "cell_type": "markdown",
   "metadata": {},
   "source": [
    "#### 3. 提交文件输出"
   ]
  },
  {
   "cell_type": "code",
   "execution_count": 13,
   "metadata": {},
   "outputs": [],
   "source": [
    "dtrain = xgb.DMatrix(X, label = y)\n",
    "reg = xgb.train(params=param_reg, dtrain=dtrain,\n",
    "                num_boost_round=int(reg_num_boost_round_mean[np.argmin(val_mean)]),\n",
    "                verbose_eval=False)\n",
    "        \n",
    "Z = reg.predict(dtrain).reshape(-1, 1)\n",
    "clf = LogisticRegression(solver='liblinear', C=10000)\n",
    "clf.fit(Z, r)\n",
    "\n",
    "# Submission\n",
    "sub = pd.read_csv(os.path.join(data_folder, '{}SampleSubmissionStage{}_{}.csv'.format(gender, stage, year)))\n",
    "sub['Season'] = [int(i.split('_')[0]) for i in sub['ID'].values]\n",
    "sub['T1_TeamID'] = [int(i.split('_')[1]) for i in sub['ID'].values]\n",
    "sub['T2_TeamID'] = [int(i.split('_')[2]) for i in sub['ID'].values]\n",
    "\n",
    "sub = pd.merge(sub, season_statistics_T1, on = ['Season', 'T1_TeamID'], how='left')\n",
    "sub = pd.merge(sub, season_statistics_T2, on = ['Season', 'T2_TeamID'], how='left')\n",
    "\n",
    "sub = pd.merge(sub, seeds_T1, on = ['Season', 'T1_TeamID'], how='left')\n",
    "sub = pd.merge(sub, seeds_T2, on = ['Season', 'T2_TeamID'], how='left')\n",
    "\n",
    "Xtest = sub[sub.columns[5:]].values\n",
    "Ztest = reg.predict(xgb.DMatrix(Xtest)).reshape(-1,1)\n",
    "ytest_pred = clf.predict_proba(Ztest)\n",
    "sub['Pred'] = ytest_pred[:,0]\n",
    "\n",
    "sub[['ID','Pred']].to_csv(os.path.join('\\\\'.join(data_folder.split('\\\\')[:-1]), '{}_stage{}_submission_{}.csv'.format(gender, stage, year)), index=False)"
   ]
  }
 ],
 "metadata": {
  "kernelspec": {
   "display_name": "Python 3",
   "language": "python",
   "name": "python3"
  },
  "language_info": {
   "codemirror_mode": {
    "name": "ipython",
    "version": 3
   },
   "file_extension": ".py",
   "mimetype": "text/x-python",
   "name": "python",
   "nbconvert_exporter": "python",
   "pygments_lexer": "ipython3",
   "version": "3.6.10"
  }
 },
 "nbformat": 4,
 "nbformat_minor": 1
}
